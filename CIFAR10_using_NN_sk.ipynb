{
  "nbformat": 4,
  "nbformat_minor": 0,
  "metadata": {
    "colab": {
      "provenance": [],
      "gpuType": "T4"
    },
    "kernelspec": {
      "name": "python3",
      "display_name": "Python 3"
    },
    "language_info": {
      "name": "python"
    },
    "accelerator": "GPU"
  },
  "cells": [
    {
      "cell_type": "code",
      "execution_count": 1,
      "metadata": {
        "colab": {
          "base_uri": "https://localhost:8080/"
        },
        "id": "DhsSE13hdnVT",
        "outputId": "b2dafd36-dddd-4acd-a929-2f3cf86b7d4e"
      },
      "outputs": [
        {
          "output_type": "stream",
          "name": "stdout",
          "text": [
            "Wed Apr 17 06:52:56 2024       \n",
            "+---------------------------------------------------------------------------------------+\n",
            "| NVIDIA-SMI 535.104.05             Driver Version: 535.104.05   CUDA Version: 12.2     |\n",
            "|-----------------------------------------+----------------------+----------------------+\n",
            "| GPU  Name                 Persistence-M | Bus-Id        Disp.A | Volatile Uncorr. ECC |\n",
            "| Fan  Temp   Perf          Pwr:Usage/Cap |         Memory-Usage | GPU-Util  Compute M. |\n",
            "|                                         |                      |               MIG M. |\n",
            "|=========================================+======================+======================|\n",
            "|   0  Tesla T4                       Off | 00000000:00:04.0 Off |                    0 |\n",
            "| N/A   66C    P8              10W /  70W |      0MiB / 15360MiB |      0%      Default |\n",
            "|                                         |                      |                  N/A |\n",
            "+-----------------------------------------+----------------------+----------------------+\n",
            "                                                                                         \n",
            "+---------------------------------------------------------------------------------------+\n",
            "| Processes:                                                                            |\n",
            "|  GPU   GI   CI        PID   Type   Process name                            GPU Memory |\n",
            "|        ID   ID                                                             Usage      |\n",
            "|=======================================================================================|\n",
            "|  No running processes found                                                           |\n",
            "+---------------------------------------------------------------------------------------+\n"
          ]
        }
      ],
      "source": [
        "!nvidia-smi"
      ]
    },
    {
      "cell_type": "code",
      "source": [
        "!pip install torch torchvision"
      ],
      "metadata": {
        "colab": {
          "base_uri": "https://localhost:8080/"
        },
        "id": "d2phppRRyNNk",
        "outputId": "f9941753-9572-4c3d-f804-5607d28b6c2a"
      },
      "execution_count": 2,
      "outputs": [
        {
          "output_type": "stream",
          "name": "stdout",
          "text": [
            "Requirement already satisfied: torch in /usr/local/lib/python3.10/dist-packages (2.2.1+cu121)\n",
            "Requirement already satisfied: torchvision in /usr/local/lib/python3.10/dist-packages (0.17.1+cu121)\n",
            "Requirement already satisfied: filelock in /usr/local/lib/python3.10/dist-packages (from torch) (3.13.4)\n",
            "Requirement already satisfied: typing-extensions>=4.8.0 in /usr/local/lib/python3.10/dist-packages (from torch) (4.11.0)\n",
            "Requirement already satisfied: sympy in /usr/local/lib/python3.10/dist-packages (from torch) (1.12)\n",
            "Requirement already satisfied: networkx in /usr/local/lib/python3.10/dist-packages (from torch) (3.3)\n",
            "Requirement already satisfied: jinja2 in /usr/local/lib/python3.10/dist-packages (from torch) (3.1.3)\n",
            "Requirement already satisfied: fsspec in /usr/local/lib/python3.10/dist-packages (from torch) (2023.6.0)\n",
            "Requirement already satisfied: nvidia-cuda-nvrtc-cu12==12.1.105 in /usr/local/lib/python3.10/dist-packages (from torch) (12.1.105)\n",
            "Requirement already satisfied: nvidia-cuda-runtime-cu12==12.1.105 in /usr/local/lib/python3.10/dist-packages (from torch) (12.1.105)\n",
            "Requirement already satisfied: nvidia-cuda-cupti-cu12==12.1.105 in /usr/local/lib/python3.10/dist-packages (from torch) (12.1.105)\n",
            "Requirement already satisfied: nvidia-cudnn-cu12==8.9.2.26 in /usr/local/lib/python3.10/dist-packages (from torch) (8.9.2.26)\n",
            "Requirement already satisfied: nvidia-cublas-cu12==12.1.3.1 in /usr/local/lib/python3.10/dist-packages (from torch) (12.1.3.1)\n",
            "Requirement already satisfied: nvidia-cufft-cu12==11.0.2.54 in /usr/local/lib/python3.10/dist-packages (from torch) (11.0.2.54)\n",
            "Requirement already satisfied: nvidia-curand-cu12==10.3.2.106 in /usr/local/lib/python3.10/dist-packages (from torch) (10.3.2.106)\n",
            "Requirement already satisfied: nvidia-cusolver-cu12==11.4.5.107 in /usr/local/lib/python3.10/dist-packages (from torch) (11.4.5.107)\n",
            "Requirement already satisfied: nvidia-cusparse-cu12==12.1.0.106 in /usr/local/lib/python3.10/dist-packages (from torch) (12.1.0.106)\n",
            "Requirement already satisfied: nvidia-nccl-cu12==2.19.3 in /usr/local/lib/python3.10/dist-packages (from torch) (2.19.3)\n",
            "Requirement already satisfied: nvidia-nvtx-cu12==12.1.105 in /usr/local/lib/python3.10/dist-packages (from torch) (12.1.105)\n",
            "Requirement already satisfied: triton==2.2.0 in /usr/local/lib/python3.10/dist-packages (from torch) (2.2.0)\n",
            "Requirement already satisfied: nvidia-nvjitlink-cu12 in /usr/local/lib/python3.10/dist-packages (from nvidia-cusolver-cu12==11.4.5.107->torch) (12.4.127)\n",
            "Requirement already satisfied: numpy in /usr/local/lib/python3.10/dist-packages (from torchvision) (1.25.2)\n",
            "Requirement already satisfied: pillow!=8.3.*,>=5.3.0 in /usr/local/lib/python3.10/dist-packages (from torchvision) (9.4.0)\n",
            "Requirement already satisfied: MarkupSafe>=2.0 in /usr/local/lib/python3.10/dist-packages (from jinja2->torch) (2.1.5)\n",
            "Requirement already satisfied: mpmath>=0.19 in /usr/local/lib/python3.10/dist-packages (from sympy->torch) (1.3.0)\n"
          ]
        }
      ]
    },
    {
      "cell_type": "code",
      "source": [
        "import torch\n",
        "import torchvision\n",
        "import matplotlib.pyplot as plt"
      ],
      "metadata": {
        "id": "w5g3w_7Ji3GH"
      },
      "execution_count": 3,
      "outputs": []
    },
    {
      "cell_type": "markdown",
      "source": [
        "# loading CIFAR-10 dataset from Torchvision library"
      ],
      "metadata": {
        "id": "tiAFfWOMjYlU"
      }
    },
    {
      "cell_type": "code",
      "source": [
        "from torchvision import transforms"
      ],
      "metadata": {
        "id": "uEAeiqZ0jOEf"
      },
      "execution_count": 4,
      "outputs": []
    },
    {
      "cell_type": "code",
      "source": [
        "transform= transforms.Compose([transforms.ToTensor()])"
      ],
      "metadata": {
        "id": "8nFhFD_bjq9e"
      },
      "execution_count": 5,
      "outputs": []
    },
    {
      "cell_type": "code",
      "source": [
        "train_dataset=torchvision.datasets.CIFAR10(root='/content',train=True,download=True,transform=transform)"
      ],
      "metadata": {
        "colab": {
          "base_uri": "https://localhost:8080/"
        },
        "id": "x8Ps3IYpkAHB",
        "outputId": "49f476f8-0cbc-4f45-b9c8-e6cd8640e0a4"
      },
      "execution_count": 6,
      "outputs": [
        {
          "output_type": "stream",
          "name": "stdout",
          "text": [
            "Files already downloaded and verified\n"
          ]
        }
      ]
    },
    {
      "cell_type": "code",
      "source": [
        "test_dataset=torchvision.datasets.CIFAR10(root='/content',train=False,download=True,transform=transform)"
      ],
      "metadata": {
        "colab": {
          "base_uri": "https://localhost:8080/"
        },
        "id": "Ts7VZUqIlInX",
        "outputId": "e631edfd-c9d2-4556-d6a8-5b3bdaf4041a"
      },
      "execution_count": 7,
      "outputs": [
        {
          "output_type": "stream",
          "name": "stdout",
          "text": [
            "Files already downloaded and verified\n"
          ]
        }
      ]
    },
    {
      "cell_type": "code",
      "source": [
        "len((train_dataset))"
      ],
      "metadata": {
        "colab": {
          "base_uri": "https://localhost:8080/"
        },
        "id": "iywvMc8DlkBj",
        "outputId": "87206729-2944-4990-92aa-ddc3b2f03a30"
      },
      "execution_count": 8,
      "outputs": [
        {
          "output_type": "execute_result",
          "data": {
            "text/plain": [
              "50000"
            ]
          },
          "metadata": {},
          "execution_count": 8
        }
      ]
    },
    {
      "cell_type": "code",
      "source": [
        "len((test_dataset))"
      ],
      "metadata": {
        "colab": {
          "base_uri": "https://localhost:8080/"
        },
        "id": "VDGXNqW7l1PN",
        "outputId": "242c4c2a-7996-4df8-9593-7f4ffa96d2b0"
      },
      "execution_count": 9,
      "outputs": [
        {
          "output_type": "execute_result",
          "data": {
            "text/plain": [
              "10000"
            ]
          },
          "metadata": {},
          "execution_count": 9
        }
      ]
    },
    {
      "cell_type": "code",
      "source": [
        "train_dataset[0][0].shape"
      ],
      "metadata": {
        "colab": {
          "base_uri": "https://localhost:8080/"
        },
        "id": "QkjEFqg3l4vV",
        "outputId": "bf61b6e7-9cd4-438b-938e-718370a6f91f"
      },
      "execution_count": 10,
      "outputs": [
        {
          "output_type": "execute_result",
          "data": {
            "text/plain": [
              "torch.Size([3, 32, 32])"
            ]
          },
          "metadata": {},
          "execution_count": 10
        }
      ]
    },
    {
      "cell_type": "markdown",
      "source": [
        "# load the downloaded dataset using pytorch DataLoader"
      ],
      "metadata": {
        "id": "XrSlYbSfmUyC"
      }
    },
    {
      "cell_type": "code",
      "source": [
        "train_loader=torch.utils.data.DataLoader(dataset=train_dataset,batch_size=32)\n",
        "test_loader=torch.utils.data.DataLoader(dataset=test_dataset,batch_size=32)"
      ],
      "metadata": {
        "id": "Li3iNqVSmLh5"
      },
      "execution_count": 11,
      "outputs": []
    },
    {
      "cell_type": "code",
      "source": [
        "sample1=iter(test_loader)"
      ],
      "metadata": {
        "id": "9c4iK1O0m3-H"
      },
      "execution_count": 12,
      "outputs": []
    },
    {
      "cell_type": "code",
      "source": [
        "image,target_val=next(sample1)"
      ],
      "metadata": {
        "id": "tItmwqxanDPr"
      },
      "execution_count": 13,
      "outputs": []
    },
    {
      "cell_type": "code",
      "source": [
        "for i in range(6):\n",
        "  plt.subplot(2,3,i+1)\n",
        "  plt.imshow(image[i][0])\n",
        "plt.show()"
      ],
      "metadata": {
        "colab": {
          "base_uri": "https://localhost:8080/",
          "height": 411
        },
        "id": "U3bJbZfNnUCs",
        "outputId": "cff8087d-f07e-409b-e2a0-91628da62e5a"
      },
      "execution_count": 14,
      "outputs": [
        {
          "output_type": "display_data",
          "data": {
            "text/plain": [
              "<Figure size 640x480 with 6 Axes>"
            ],
            "image/png": "[encoded data removed]"
          },
          "metadata": {}
        }
      ]
    },
    {
      "cell_type": "markdown",
      "source": [
        "# Building Neural Network"
      ],
      "metadata": {
        "id": "Zcs70Vzvn1bB"
      }
    },
    {
      "cell_type": "code",
      "source": [
        "import torch.nn as nn"
      ],
      "metadata": {
        "id": "_CRxwTuXnpeS"
      },
      "execution_count": 15,
      "outputs": []
    },
    {
      "cell_type": "code",
      "source": [
        "from os import X_OK\n",
        "class CustomNeuralNetwork(nn.Module):\n",
        "  def __init__(self):\n",
        "    super(CustomNeuralNetwork,self).__init__()\n",
        "    self.layer1=nn.Linear(3072,1500)\n",
        "    self.layer2=nn.Linear(1500,750)\n",
        "    self.layer3=nn.Linear(750,325)\n",
        "    self.layer4=nn.Linear(325,180)\n",
        "    self.layer5=nn.Linear(180,50)\n",
        "    self.layer6=nn.Linear(50,10)\n",
        "\n",
        "    self.sigmoid=nn.Sigmoid()\n",
        "    self.relu=nn.ReLU()\n",
        "    self.tanh=nn.Tanh()\n",
        "\n",
        "  def forward(self,x):\n",
        "    x=self.layer1(x)\n",
        "    x=self.tanh(x)\n",
        "    x=self.layer2(x)\n",
        "    x=self.tanh(x)\n",
        "    x=self.layer3(x)\n",
        "    x=self.tanh(x)\n",
        "    x=self.layer4(x)\n",
        "    x=self.tanh(x)\n",
        "    x=self.layer5(x)\n",
        "    x=self.sigmoid(x)\n",
        "    x=self.layer6(x)\n",
        "    return x"
      ],
      "metadata": {
        "id": "Q7nfvKyfoCIZ"
      },
      "execution_count": 16,
      "outputs": []
    },
    {
      "cell_type": "code",
      "source": [
        "model=CustomNeuralNetwork()"
      ],
      "metadata": {
        "id": "Om_0KIu_qNIG"
      },
      "execution_count": 17,
      "outputs": []
    },
    {
      "cell_type": "code",
      "source": [
        "model=model.to('cuda')"
      ],
      "metadata": {
        "id": "nI2sHt8xqUkB"
      },
      "execution_count": 18,
      "outputs": []
    },
    {
      "cell_type": "code",
      "source": [
        "print(model)"
      ],
      "metadata": {
        "colab": {
          "base_uri": "https://localhost:8080/"
        },
        "id": "FBRqnqHUqYCF",
        "outputId": "4016a8dd-6fb7-4b5b-e836-42d41a965470"
      },
      "execution_count": 19,
      "outputs": [
        {
          "output_type": "stream",
          "name": "stdout",
          "text": [
            "CustomNeuralNetwork(\n",
            "  (layer1): Linear(in_features=3072, out_features=1500, bias=True)\n",
            "  (layer2): Linear(in_features=1500, out_features=750, bias=True)\n",
            "  (layer3): Linear(in_features=750, out_features=325, bias=True)\n",
            "  (layer4): Linear(in_features=325, out_features=180, bias=True)\n",
            "  (layer5): Linear(in_features=180, out_features=50, bias=True)\n",
            "  (layer6): Linear(in_features=50, out_features=10, bias=True)\n",
            "  (sigmoid): Sigmoid()\n",
            "  (relu): ReLU()\n",
            "  (tanh): Tanh()\n",
            ")\n"
          ]
        }
      ]
    },
    {
      "cell_type": "code",
      "source": [
        "criterion=nn.CrossEntropyLoss()\n",
        "optimizer=torch.optim.SGD(model.parameters(),lr=0.005)"
      ],
      "metadata": {
        "id": "Urj3Ly0hqlRj"
      },
      "execution_count": 20,
      "outputs": []
    },
    {
      "cell_type": "markdown",
      "source": [
        "# training loop"
      ],
      "metadata": {
        "id": "uEVEXfa8rJPm"
      }
    },
    {
      "cell_type": "code",
      "source": [
        "import time"
      ],
      "metadata": {
        "id": "sUAAdoP3rIW_"
      },
      "execution_count": 21,
      "outputs": []
    },
    {
      "cell_type": "code",
      "source": [
        "start_time=time.time()\n",
        "for epoch in range(5):\n",
        "  total_loss=0\n",
        "  for (images,labels) in train_loader:\n",
        "    images=images.reshape(-1,3*32*32)\n",
        "    images=images.to('cuda')\n",
        "    labels=labels.to('cuda')\n",
        "    predicted_label=model(images)\n",
        "    loss=criterion(predicted_label,labels)\n",
        "    optimizer.zero_grad()\n",
        "    loss.backward()\n",
        "    total_loss=total_loss+loss\n",
        "  print(f\"the model loss as epoch {epoch} is {total_loss}\")\n",
        "\n",
        "end_time=time.time()\n",
        "print(f\"total time for training the model is {end_time - start_time}\")"
      ],
      "metadata": {
        "colab": {
          "base_uri": "https://localhost:8080/"
        },
        "id": "aB2QUpUKrNoC",
        "outputId": "8fdf1046-0ba6-446d-8ea1-9eddfc74204b"
      },
      "execution_count": 22,
      "outputs": [
        {
          "output_type": "stream",
          "name": "stdout",
          "text": [
            "the model loss as epoch 0 is 3626.11376953125\n",
            "the model loss as epoch 1 is 3626.11376953125\n",
            "the model loss as epoch 2 is 3626.11376953125\n",
            "the model loss as epoch 3 is 3626.11376953125\n",
            "the model loss as epoch 4 is 3626.11376953125\n",
            "total time for training the model is 59.153326988220215\n"
          ]
        }
      ]
    },
    {
      "cell_type": "markdown",
      "source": [
        "# model evaluation"
      ],
      "metadata": {
        "id": "32EFLhZjuTLP"
      }
    },
    {
      "cell_type": "code",
      "source": [
        "model.eval()"
      ],
      "metadata": {
        "colab": {
          "base_uri": "https://localhost:8080/"
        },
        "id": "4aDBG5wruWpv",
        "outputId": "7c670503-cf1f-47a2-cbd4-e15d34e73cdb"
      },
      "execution_count": 23,
      "outputs": [
        {
          "output_type": "execute_result",
          "data": {
            "text/plain": [
              "CustomNeuralNetwork(\n",
              "  (layer1): Linear(in_features=3072, out_features=1500, bias=True)\n",
              "  (layer2): Linear(in_features=1500, out_features=750, bias=True)\n",
              "  (layer3): Linear(in_features=750, out_features=325, bias=True)\n",
              "  (layer4): Linear(in_features=325, out_features=180, bias=True)\n",
              "  (layer5): Linear(in_features=180, out_features=50, bias=True)\n",
              "  (layer6): Linear(in_features=50, out_features=10, bias=True)\n",
              "  (sigmoid): Sigmoid()\n",
              "  (relu): ReLU()\n",
              "  (tanh): Tanh()\n",
              ")"
            ]
          },
          "metadata": {},
          "execution_count": 23
        }
      ]
    },
    {
      "cell_type": "code",
      "source": [
        "import numpy as np"
      ],
      "metadata": {
        "id": "KKq2dHTDuczD"
      },
      "execution_count": 24,
      "outputs": []
    },
    {
      "cell_type": "code",
      "source": [
        "avg_acc=[]"
      ],
      "metadata": {
        "id": "vX2Y08UOuc2o"
      },
      "execution_count": 25,
      "outputs": []
    },
    {
      "cell_type": "code",
      "source": [
        "with torch.no_grad():\n",
        "  for (images,labels) in test_loader:\n",
        "    total_correct=0\n",
        "    n_sample=0\n",
        "    model=model.to('cpu')\n",
        "    images=images.reshape(-1,3*32*32)\n",
        "    model_out=model(images)\n",
        "    pred_out=torch.argmax(model_out,dim=1)\n",
        "    n_sample=labels.size(0)\n",
        "    total_correct=total_correct+(pred_out==labels).sum()\n",
        "    accuracy=total_correct/n_sample*100\n",
        "    avg_acc.append(accuracy)\n",
        "  print(f\"total accuracy is {np.array(avg_acc).mean()}\")"
      ],
      "metadata": {
        "colab": {
          "base_uri": "https://localhost:8080/"
        },
        "id": "wvdcRxNbuc5n",
        "outputId": "41eb433f-ace4-4771-d5bb-bd56474d1e3d"
      },
      "execution_count": 26,
      "outputs": [
        {
          "output_type": "stream",
          "name": "stdout",
          "text": [
            "total accuracy is 9.994009971618652\n"
          ]
        }
      ]
    },
    {
      "cell_type": "markdown",
      "source": [
        "# predicting unknown CIFAR10 image"
      ],
      "metadata": {
        "id": "-ue28W3YwOU9"
      }
    },
    {
      "cell_type": "code",
      "source": [
        "predicted_image=torch.argmax(model(test_dataset[20][0].reshape(-1,3*32*32)))"
      ],
      "metadata": {
        "id": "XMtPiWkNuc8_"
      },
      "execution_count": 27,
      "outputs": []
    },
    {
      "cell_type": "code",
      "source": [
        "actual_image_label=test_dataset[20][1]"
      ],
      "metadata": {
        "id": "cqmlCbDTudAc"
      },
      "execution_count": 28,
      "outputs": []
    },
    {
      "cell_type": "code",
      "source": [
        "predicted_image"
      ],
      "metadata": {
        "colab": {
          "base_uri": "https://localhost:8080/"
        },
        "id": "OaRN095V0uLQ",
        "outputId": "56506cf5-ed6a-4278-cf6b-a1d2e1d837dc"
      },
      "execution_count": 29,
      "outputs": [
        {
          "output_type": "execute_result",
          "data": {
            "text/plain": [
              "tensor(1)"
            ]
          },
          "metadata": {},
          "execution_count": 29
        }
      ]
    },
    {
      "cell_type": "code",
      "source": [
        "actual_image_label"
      ],
      "metadata": {
        "colab": {
          "base_uri": "https://localhost:8080/"
        },
        "id": "Xjx4x-EL0k9p",
        "outputId": "c4e5a45e-c02e-47d9-f50a-a0c3781489a1"
      },
      "execution_count": 30,
      "outputs": [
        {
          "output_type": "execute_result",
          "data": {
            "text/plain": [
              "7"
            ]
          },
          "metadata": {},
          "execution_count": 30
        }
      ]
    }
  ]
}