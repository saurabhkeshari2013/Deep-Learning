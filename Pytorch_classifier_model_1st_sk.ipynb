{
  "nbformat": 4,
  "nbformat_minor": 0,
  "metadata": {
    "colab": {
      "provenance": [],
      "gpuType": "T4"
    },
    "kernelspec": {
      "name": "python3",
      "display_name": "Python 3"
    },
    "language_info": {
      "name": "python"
    },
    "accelerator": "GPU"
  },
  "cells": [
    {
      "cell_type": "code",
      "source": [
        "!nvidia-smi"
      ],
      "metadata": {
        "colab": {
          "base_uri": "https://localhost:8080/"
        },
        "id": "ZnzT0UJdkgkf",
        "outputId": "e614acfd-bff5-4a64-d185-35f839734712"
      },
      "execution_count": null,
      "outputs": [
        {
          "output_type": "stream",
          "name": "stdout",
          "text": [
            "Mon Apr  1 16:08:00 2024       \n",
            "+---------------------------------------------------------------------------------------+\n",
            "| NVIDIA-SMI 535.104.05             Driver Version: 535.104.05   CUDA Version: 12.2     |\n",
            "|-----------------------------------------+----------------------+----------------------+\n",
            "| GPU  Name                 Persistence-M | Bus-Id        Disp.A | Volatile Uncorr. ECC |\n",
            "| Fan  Temp   Perf          Pwr:Usage/Cap |         Memory-Usage | GPU-Util  Compute M. |\n",
            "|                                         |                      |               MIG M. |\n",
            "|=========================================+======================+======================|\n",
            "|   0  Tesla T4                       Off | 00000000:00:04.0 Off |                    0 |\n",
            "| N/A   62C    P8              11W /  70W |      0MiB / 15360MiB |      0%      Default |\n",
            "|                                         |                      |                  N/A |\n",
            "+-----------------------------------------+----------------------+----------------------+\n",
            "                                                                                         \n",
            "+---------------------------------------------------------------------------------------+\n",
            "| Processes:                                                                            |\n",
            "|  GPU   GI   CI        PID   Type   Process name                            GPU Memory |\n",
            "|        ID   ID                                                             Usage      |\n",
            "|=======================================================================================|\n",
            "|  No running processes found                                                           |\n",
            "+---------------------------------------------------------------------------------------+\n"
          ]
        }
      ]
    },
    {
      "cell_type": "code",
      "execution_count": null,
      "metadata": {
        "id": "G6YCTSQfbER9"
      },
      "outputs": [],
      "source": [
        "import torch"
      ]
    },
    {
      "cell_type": "code",
      "source": [
        "import torchvision"
      ],
      "metadata": {
        "id": "9E3Tt8IWbGh5"
      },
      "execution_count": null,
      "outputs": []
    },
    {
      "cell_type": "markdown",
      "source": [
        "## Loading MNIST dataset from Trochvision Library"
      ],
      "metadata": {
        "id": "kvG0lfcJbtib"
      }
    },
    {
      "cell_type": "code",
      "source": [
        "from torchvision import transforms\n",
        "\n",
        "transform = transforms.Compose([\n",
        "    # you can add other transformations in this list\n",
        "    transforms.ToTensor()\n",
        "])"
      ],
      "metadata": {
        "id": "qAKrW0EAj0rV"
      },
      "execution_count": null,
      "outputs": []
    },
    {
      "cell_type": "code",
      "source": [
        "train_dataset = torchvision.datasets.MNIST(root = \"/content/dl_class\",train=True,download=True,transform= transform)\n",
        "test_dataset = torchvision.datasets.MNIST(root = \"/content/dl_class\",train=False,download=True,transform= transform)"
      ],
      "metadata": {
        "colab": {
          "base_uri": "https://localhost:8080/"
        },
        "id": "9CRNxk6EbyfE",
        "outputId": "de2c2514-d375-4827-e4d7-0753fd8d91ee"
      },
      "execution_count": null,
      "outputs": [
        {
          "output_type": "stream",
          "name": "stdout",
          "text": [
            "Downloading http://yann.lecun.com/exdb/mnist/train-images-idx3-ubyte.gz\n",
            "Downloading http://yann.lecun.com/exdb/mnist/train-images-idx3-ubyte.gz to /content/dl_class/MNIST/raw/train-images-idx3-ubyte.gz\n"
          ]
        },
        {
          "output_type": "stream",
          "name": "stderr",
          "text": [
            "100%|██████████| 9912422/9912422 [00:00<00:00, 98560814.47it/s]\n"
          ]
        },
        {
          "output_type": "stream",
          "name": "stdout",
          "text": [
            "Extracting /content/dl_class/MNIST/raw/train-images-idx3-ubyte.gz to /content/dl_class/MNIST/raw\n",
            "\n",
            "Downloading http://yann.lecun.com/exdb/mnist/train-labels-idx1-ubyte.gz\n",
            "Downloading http://yann.lecun.com/exdb/mnist/train-labels-idx1-ubyte.gz to /content/dl_class/MNIST/raw/train-labels-idx1-ubyte.gz\n"
          ]
        },
        {
          "output_type": "stream",
          "name": "stderr",
          "text": [
            "100%|██████████| 28881/28881 [00:00<00:00, 94122528.22it/s]"
          ]
        },
        {
          "output_type": "stream",
          "name": "stdout",
          "text": [
            "Extracting /content/dl_class/MNIST/raw/train-labels-idx1-ubyte.gz to /content/dl_class/MNIST/raw\n",
            "\n",
            "Downloading http://yann.lecun.com/exdb/mnist/t10k-images-idx3-ubyte.gz\n",
            "Downloading http://yann.lecun.com/exdb/mnist/t10k-images-idx3-ubyte.gz to /content/dl_class/MNIST/raw/t10k-images-idx3-ubyte.gz\n"
          ]
        },
        {
          "output_type": "stream",
          "name": "stderr",
          "text": [
            "\n",
            "100%|██████████| 1648877/1648877 [00:00<00:00, 31875461.58it/s]\n"
          ]
        },
        {
          "output_type": "stream",
          "name": "stdout",
          "text": [
            "Extracting /content/dl_class/MNIST/raw/t10k-images-idx3-ubyte.gz to /content/dl_class/MNIST/raw\n",
            "\n",
            "Downloading http://yann.lecun.com/exdb/mnist/t10k-labels-idx1-ubyte.gz\n",
            "Downloading http://yann.lecun.com/exdb/mnist/t10k-labels-idx1-ubyte.gz to /content/dl_class/MNIST/raw/t10k-labels-idx1-ubyte.gz\n"
          ]
        },
        {
          "output_type": "stream",
          "name": "stderr",
          "text": [
            "100%|██████████| 4542/4542 [00:00<00:00, 18658696.15it/s]"
          ]
        },
        {
          "output_type": "stream",
          "name": "stdout",
          "text": [
            "Extracting /content/dl_class/MNIST/raw/t10k-labels-idx1-ubyte.gz to /content/dl_class/MNIST/raw\n",
            "\n"
          ]
        },
        {
          "output_type": "stream",
          "name": "stderr",
          "text": [
            "\n"
          ]
        }
      ]
    },
    {
      "cell_type": "code",
      "source": [
        "print(f\"Total trainign data has {len(train_dataset)}\")\n",
        "print(f\"Total testing data has {len(test_dataset)}\")"
      ],
      "metadata": {
        "colab": {
          "base_uri": "https://localhost:8080/"
        },
        "id": "57R_OHBUcIBl",
        "outputId": "48326795-25a0-47c5-9ef6-1c063bd52671"
      },
      "execution_count": null,
      "outputs": [
        {
          "output_type": "stream",
          "name": "stdout",
          "text": [
            "Total trainign data has 60000\n",
            "Total testing data has 10000\n"
          ]
        }
      ]
    },
    {
      "cell_type": "code",
      "source": [
        "train_dataset[0][0].shape"
      ],
      "metadata": {
        "colab": {
          "base_uri": "https://localhost:8080/"
        },
        "id": "FE8bq3BycyuJ",
        "outputId": "4743c696-1fbb-4395-e4e8-eafc5aa39620"
      },
      "execution_count": null,
      "outputs": [
        {
          "output_type": "execute_result",
          "data": {
            "text/plain": [
              "torch.Size([1, 28, 28])"
            ]
          },
          "metadata": {},
          "execution_count": 7
        }
      ]
    },
    {
      "cell_type": "code",
      "source": [
        "import matplotlib.pyplot as plt"
      ],
      "metadata": {
        "id": "zisu3r-0eDpa"
      },
      "execution_count": null,
      "outputs": []
    },
    {
      "cell_type": "markdown",
      "source": [
        "## Load the downloaded dataset using pytorch Dataloader\n",
        "\n",
        "Dataloader class in pytroch enable you to load the dataset in batches becuase fititng all data in the memory is not feasible."
      ],
      "metadata": {
        "id": "qUEsEpGyfaRU"
      }
    },
    {
      "cell_type": "code",
      "source": [
        "train_loader = torch.utils.data.DataLoader(dataset = train_dataset, batch_size = 32) #batch size should always be a mutliple of 2**n\n",
        "test_loader = torch.utils.data.DataLoader(dataset = test_dataset, batch_size = 32)"
      ],
      "metadata": {
        "id": "1cAAGq2-efLa"
      },
      "execution_count": null,
      "outputs": []
    },
    {
      "cell_type": "code",
      "source": [
        "sample1 = iter(test_loader)"
      ],
      "metadata": {
        "id": "bvIXdhITg8NU"
      },
      "execution_count": null,
      "outputs": []
    },
    {
      "cell_type": "code",
      "source": [
        "image, target_val = next(sample1)\n",
        "for i in range(6):\n",
        "  plt.subplot(2,3,i+1)\n",
        "  plt.imshow(image[i][0])\n",
        "plt.show()"
      ],
      "metadata": {
        "colab": {
          "base_uri": "https://localhost:8080/",
          "height": 411
        },
        "id": "28_jVpHphr2Y",
        "outputId": "499e8357-e19c-48dd-cac0-ec9fa59361d1"
      },
      "execution_count": null,
      "outputs": [
        {
          "output_type": "display_data",
          "data": {
            "text/plain": [
              "<Figure size 640x480 with 6 Axes>"
            ],
            "image/png": "[encoded data removed]"
          },
          "metadata": {}
        }
      ]
    },
    {
      "cell_type": "markdown",
      "source": [
        "#Building Neural Network"
      ],
      "metadata": {
        "id": "N_fsG3S6lI2Y"
      }
    },
    {
      "cell_type": "code",
      "source": [
        "import torch.nn as nn"
      ],
      "metadata": {
        "id": "Uo2ydiCriZnP"
      },
      "execution_count": null,
      "outputs": []
    },
    {
      "cell_type": "markdown",
      "source": [
        "Home work: try to add the more layers to the model and obsreve the accuracy"
      ],
      "metadata": {
        "id": "gu26H27i7E4R"
      }
    },
    {
      "cell_type": "code",
      "source": [
        "class CustomNeuralNetwork(nn.Module):\n",
        "\n",
        "  def __init__(self):\n",
        "    super(CustomNeuralNetwork,self).__init__()\n",
        "\n",
        "    self.layer1 = nn.Linear(784, 500)\n",
        "    self.relu = nn.ReLU()\n",
        "    self.layer2 = nn.Linear(500, 250)\n",
        "    self.layer3 = nn.Linear(250, 125)\n",
        "    self.layer4 = nn.Linear(125, 10)\n",
        "\n",
        "  def forward(self, x):\n",
        "    out1 = self.layer1(x)\n",
        "    out2 = self.relu(out1)\n",
        "    out3 = self.layer2(out2) # the output layer never to be activated\n",
        "    out4 = self.relu(out3)\n",
        "    out5 = self.layer3(out4)\n",
        "    out6 = self.relu(out5)\n",
        "    out7 = self.layer4(out6)\n",
        "    return out7"
      ],
      "metadata": {
        "id": "Mv2-kKoWlWuy"
      },
      "execution_count": null,
      "outputs": []
    },
    {
      "cell_type": "code",
      "source": [
        "model = CustomNeuralNetwork()"
      ],
      "metadata": {
        "id": "j4IekQFErIx3"
      },
      "execution_count": null,
      "outputs": []
    },
    {
      "cell_type": "code",
      "source": [
        "device=torch.device('cuda' if torch.cuda.is_available() else 'cpu')"
      ],
      "metadata": {
        "id": "3j-Nux3Zmj1e"
      },
      "execution_count": null,
      "outputs": []
    },
    {
      "cell_type": "code",
      "source": [
        "print(device)"
      ],
      "metadata": {
        "colab": {
          "base_uri": "https://localhost:8080/"
        },
        "id": "gAlXplZ9mkDk",
        "outputId": "5e4f0d12-7f96-4a75-d4d6-193e28bf3d54"
      },
      "execution_count": null,
      "outputs": [
        {
          "output_type": "stream",
          "name": "stdout",
          "text": [
            "cuda\n"
          ]
        }
      ]
    },
    {
      "cell_type": "code",
      "source": [
        "model.to(device)"
      ],
      "metadata": {
        "colab": {
          "base_uri": "https://localhost:8080/"
        },
        "id": "XNS8q-McmkRu",
        "outputId": "899fa2f3-8db3-4864-dc1e-6b459dc546f8"
      },
      "execution_count": null,
      "outputs": [
        {
          "output_type": "execute_result",
          "data": {
            "text/plain": [
              "CustomNeuralNetwork(\n",
              "  (layer1): Linear(in_features=784, out_features=500, bias=True)\n",
              "  (relu): ReLU()\n",
              "  (layer2): Linear(in_features=500, out_features=250, bias=True)\n",
              "  (layer3): Linear(in_features=250, out_features=125, bias=True)\n",
              "  (layer4): Linear(in_features=125, out_features=10, bias=True)\n",
              ")"
            ]
          },
          "metadata": {},
          "execution_count": 31
        }
      ]
    },
    {
      "cell_type": "code",
      "source": [
        "print(model)"
      ],
      "metadata": {
        "colab": {
          "base_uri": "https://localhost:8080/"
        },
        "id": "Ogr1k7xLrpuz",
        "outputId": "67ef7509-9ee6-4ea5-9d8f-78947906e459"
      },
      "execution_count": null,
      "outputs": [
        {
          "output_type": "stream",
          "name": "stdout",
          "text": [
            "CustomNeuralNetwork(\n",
            "  (layer1): Linear(in_features=784, out_features=500, bias=True)\n",
            "  (relu): ReLU()\n",
            "  (layer2): Linear(in_features=500, out_features=250, bias=True)\n",
            "  (layer3): Linear(in_features=250, out_features=125, bias=True)\n",
            "  (layer4): Linear(in_features=125, out_features=10, bias=True)\n",
            ")\n"
          ]
        }
      ]
    },
    {
      "cell_type": "code",
      "source": [
        "criterion = nn.CrossEntropyLoss() #define our loss function here\n",
        "optimizier = torch.optim.SGD(model.parameters(),lr = 0.005) # define our Gradient Descent for optimising the loss function"
      ],
      "metadata": {
        "id": "5FDjG2c8rq-y"
      },
      "execution_count": null,
      "outputs": []
    },
    {
      "cell_type": "markdown",
      "source": [
        "# Training Loop\n",
        "\n",
        "Homework : chnage the epoch to 20, 40, 50 and observe the accuarcy"
      ],
      "metadata": {
        "id": "LOiobNqmt2l2"
      }
    },
    {
      "cell_type": "code",
      "source": [
        "import time\n",
        "start_time=time.time()\n",
        "\n",
        "for epoch in range(10):\n",
        "  total_loss = 0\n",
        "  for (images,labels) in train_loader:\n",
        "    images = images.reshape(-1,28*28) #this will flatte the 2-D image into 784 pixel long features\n",
        "    images=images.to(device)\n",
        "    labels=labels.to(device)\n",
        "    predicted_label = model(images)\n",
        "    loss = criterion(predicted_label,labels)\n",
        "    optimizier.zero_grad()\n",
        "    loss.backward() # this will compute all diffrentiation w.r.t weights and bias\n",
        "    optimizier.step() # update the weights by the gradient calucalted in above step\n",
        "    total_loss = total_loss + loss\n",
        "  print(f\"The model loss as epoch {epoch} is {total_loss}\")\n",
        "\n",
        "end_time=time.time()\n",
        "print(f'total timed for training the model is {end_time - start_time}')"
      ],
      "metadata": {
        "colab": {
          "base_uri": "https://localhost:8080/"
        },
        "id": "haxcELGHt12a",
        "outputId": "5e48c5ee-e73a-41d6-ea0c-34ed27e2393a"
      },
      "execution_count": null,
      "outputs": [
        {
          "output_type": "stream",
          "name": "stdout",
          "text": [
            "The model loss as epoch 0 is 4023.058349609375\n",
            "The model loss as epoch 1 is 1521.92333984375\n",
            "The model loss as epoch 2 is 809.1932983398438\n",
            "The model loss as epoch 3 is 668.990234375\n",
            "The model loss as epoch 4 is 594.065673828125\n",
            "The model loss as epoch 5 is 536.5023193359375\n",
            "The model loss as epoch 6 is 485.4460754394531\n",
            "The model loss as epoch 7 is 438.4661865234375\n",
            "The model loss as epoch 8 is 396.1159973144531\n",
            "The model loss as epoch 9 is 359.1264953613281\n",
            "total timed for training the model is 94.69771122932434\n"
          ]
        }
      ]
    },
    {
      "cell_type": "markdown",
      "source": [
        "# model Evaluation"
      ],
      "metadata": {
        "id": "orzlLZn71CAi"
      }
    },
    {
      "cell_type": "code",
      "source": [
        "model.eval() # this set the model into evaluations"
      ],
      "metadata": {
        "colab": {
          "base_uri": "https://localhost:8080/"
        },
        "id": "_QoFHIOU1BRm",
        "outputId": "9eecbd4f-52e3-4096-9098-ff6ba7d8fb31"
      },
      "execution_count": null,
      "outputs": [
        {
          "output_type": "execute_result",
          "data": {
            "text/plain": [
              "CustomNeuralNetwork(\n",
              "  (layer1): Linear(in_features=784, out_features=500, bias=True)\n",
              "  (relu): ReLU()\n",
              "  (layer2): Linear(in_features=500, out_features=250, bias=True)\n",
              "  (layer3): Linear(in_features=250, out_features=125, bias=True)\n",
              "  (layer4): Linear(in_features=125, out_features=10, bias=True)\n",
              ")"
            ]
          },
          "metadata": {},
          "execution_count": 35
        }
      ]
    },
    {
      "cell_type": "code",
      "source": [
        "import numpy as np\n",
        "avg_acc=[]\n",
        "with torch.no_grad():\n",
        "  for (images, labels) in test_loader:\n",
        "    total_correct = 0\n",
        "    n_sample = 0\n",
        "    images = images.reshape(-1,28*28)\n",
        "    images=images.to(device)\n",
        "    labels=labels.to(device)\n",
        "    model_out = model(images)\n",
        "    pred_out = torch.argmax(model_out,dim=1)\n",
        "    n_sample = labels.size(0)\n",
        "    total_correct = total_correct + (pred_out==labels).sum().item()\n",
        "    accuracy = total_correct/n_sample*100\n",
        "    # print(\"Batch Accuracy: \",accuracy)\n",
        "    avg_acc.append(accuracy)\n",
        "    # print(pred_out.shape)\n",
        "    # print(labels.shape)\n",
        "print(f\"the model accuarcy is {np.array(avg_acc).mean()}\")"
      ],
      "metadata": {
        "colab": {
          "base_uri": "https://localhost:8080/"
        },
        "id": "9iexNcJTtgeo",
        "outputId": "7b477c10-97e5-457a-aea6-f347fd09f418"
      },
      "execution_count": null,
      "outputs": [
        {
          "output_type": "stream",
          "name": "stdout",
          "text": [
            "the model accuarcy is 94.55870607028754\n"
          ]
        }
      ]
    },
    {
      "cell_type": "code",
      "source": [
        "!nvidia-smi"
      ],
      "metadata": {
        "colab": {
          "base_uri": "https://localhost:8080/"
        },
        "id": "VPGJXGgvC56s",
        "outputId": "333e0224-b0dd-4c32-fc04-1df284f06ab4"
      },
      "execution_count": null,
      "outputs": [
        {
          "output_type": "stream",
          "name": "stdout",
          "text": [
            "Mon Apr  1 17:09:06 2024       \n",
            "+---------------------------------------------------------------------------------------+\n",
            "| NVIDIA-SMI 535.104.05             Driver Version: 535.104.05   CUDA Version: 12.2     |\n",
            "|-----------------------------------------+----------------------+----------------------+\n",
            "| GPU  Name                 Persistence-M | Bus-Id        Disp.A | Volatile Uncorr. ECC |\n",
            "| Fan  Temp   Perf          Pwr:Usage/Cap |         Memory-Usage | GPU-Util  Compute M. |\n",
            "|                                         |                      |               MIG M. |\n",
            "|=========================================+======================+======================|\n",
            "|   0  Tesla T4                       Off | 00000000:00:04.0 Off |                    0 |\n",
            "| N/A   77C    P0              34W /  70W |    181MiB / 15360MiB |      0%      Default |\n",
            "|                                         |                      |                  N/A |\n",
            "+-----------------------------------------+----------------------+----------------------+\n",
            "                                                                                         \n",
            "+---------------------------------------------------------------------------------------+\n",
            "| Processes:                                                                            |\n",
            "|  GPU   GI   CI        PID   Type   Process name                            GPU Memory |\n",
            "|        ID   ID                                                             Usage      |\n",
            "|=======================================================================================|\n",
            "+---------------------------------------------------------------------------------------+\n"
          ]
        }
      ]
    },
    {
      "cell_type": "markdown",
      "source": [
        "# Predicting unknow MNIST image"
      ],
      "metadata": {
        "id": "2hxlldQh5xZ3"
      }
    },
    {
      "cell_type": "code",
      "source": [
        "predicted_image = torch.argmax(model(test_dataset[20][0].reshape(-1,28*28).to(device)))"
      ],
      "metadata": {
        "id": "f-Mu_KJ34tC4"
      },
      "execution_count": null,
      "outputs": []
    },
    {
      "cell_type": "code",
      "source": [
        "actual_image_label = test_dataset[20][1]"
      ],
      "metadata": {
        "id": "XR_s20bx43JI"
      },
      "execution_count": null,
      "outputs": []
    },
    {
      "cell_type": "code",
      "source": [],
      "metadata": {
        "id": "CBQuiDR35H68"
      },
      "execution_count": null,
      "outputs": []
    }
  ]
}