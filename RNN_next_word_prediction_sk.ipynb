{
  "nbformat": 4,
  "nbformat_minor": 0,
  "metadata": {
    "colab": {
      "provenance": []
    },
    "kernelspec": {
      "name": "python3",
      "display_name": "Python 3"
    },
    "language_info": {
      "name": "python"
    }
  },
  "cells": [
    {
      "cell_type": "code",
      "execution_count": 21,
      "metadata": {
        "id": "xagq-C9a9TSD"
      },
      "outputs": [],
      "source": [
        "import torch\n",
        "import torch.nn as nn\n",
        "from torch.utils.data import Dataset, DataLoader"
      ]
    },
    {
      "cell_type": "code",
      "source": [
        "class customDataset(Dataset):\n",
        "  def __init__(self, text, word2idx, seq_length):\n",
        "    self.text=text\n",
        "    self.word2idx=word2idx\n",
        "    self.seq_length=seq_length\n",
        "\n",
        "  def __len__(self):\n",
        "    return len(self.text) - self.seq_length\n",
        "\n",
        "  def __getitem__(self, index):\n",
        "    sequence=[self.word2idx[word] for word in self.text[index:index+self.seq_length]]\n",
        "    target=self.word2idx[self.text[index+self.seq_length]]\n",
        "    return torch.tensor(sequence),torch.tensor(target)"
      ],
      "metadata": {
        "id": "Wfl5VgiT9uVp"
      },
      "execution_count": 22,
      "outputs": []
    },
    {
      "cell_type": "code",
      "source": [
        "text = \"Climate change is a pressing global issue caused by various factors, including carbon emissions, volcanic eruptions, and solar radiation. Human activities like fossil fuel combustion, deforestation, and vehicular pollution play a significant role. These changes have led to more frequent and severe extreme weather various volcanic led Climate radiation.\""
      ],
      "metadata": {
        "id": "wi3pBPYhojzA"
      },
      "execution_count": 68,
      "outputs": []
    },
    {
      "cell_type": "code",
      "source": [
        "word2idx={word: i for i,word in enumerate(set(text.split()))}"
      ],
      "metadata": {
        "id": "HGSDYJCgo4Pk"
      },
      "execution_count": 69,
      "outputs": []
    },
    {
      "cell_type": "code",
      "source": [
        "idx2word={i: word for word,i in word2idx.items()}"
      ],
      "metadata": {
        "id": "zRRzb9xMqS9p"
      },
      "execution_count": 70,
      "outputs": []
    },
    {
      "cell_type": "code",
      "source": [
        "dataset= customDataset(text.split(), word2idx, seq_length=10)"
      ],
      "metadata": {
        "id": "SxQzs2gLqw0c"
      },
      "execution_count": 71,
      "outputs": []
    },
    {
      "cell_type": "code",
      "source": [
        "dataloader=DataLoader(dataset, batch_size=32, shuffle=True)"
      ],
      "metadata": {
        "id": "VgMwNoRR386I"
      },
      "execution_count": 72,
      "outputs": []
    },
    {
      "cell_type": "code",
      "source": [
        "class VanillaRNN(nn.Module):\n",
        "  def __init__(self, vocab_size, embed_size, hidden_size):\n",
        "    super(VanillaRNN, self).__init__()\n",
        "    self.embed=nn.Embedding(vocab_size, embed_size)\n",
        "    self.rnn=nn.RNN(embed_size, hidden_size, batch_first=True)\n",
        "    self.fc=nn.Linear(hidden_size, vocab_size)\n",
        "\n",
        "  def forward(self, x, h0):\n",
        "    embed=self.embed(x)\n",
        "    out,h=self.rnn(embed, h0)\n",
        "    output=self.fc(out[:,-1,:])\n",
        "    return output,h"
      ],
      "metadata": {
        "id": "-mJNjhuR4UB4"
      },
      "execution_count": 73,
      "outputs": []
    },
    {
      "cell_type": "code",
      "source": [
        "model=VanillaRNN(len(word2idx), embed_size=128, hidden_size=256)"
      ],
      "metadata": {
        "id": "UC7li6LK54IU"
      },
      "execution_count": 74,
      "outputs": []
    },
    {
      "cell_type": "code",
      "source": [
        "import torch.optim as optim"
      ],
      "metadata": {
        "id": "Ro6RRtVx6JB9"
      },
      "execution_count": 75,
      "outputs": []
    },
    {
      "cell_type": "code",
      "source": [
        "criterion=nn.CrossEntropyLoss()\n",
        "optimizer=optim.SGD(model.parameters(),lr=0.001)"
      ],
      "metadata": {
        "id": "aR7ltT-T6OPA"
      },
      "execution_count": 76,
      "outputs": []
    },
    {
      "cell_type": "code",
      "source": [
        "for epoch in range(10):\n",
        "  for input, label in dataloader:\n",
        "    optimizer.zero_grad()\n",
        "    h0=torch.zeros(1, input.size(0),256)\n",
        "    outputs,_ = model(input,h0)\n",
        "    loss=criterion(outputs,label)\n",
        "    loss.backward()\n",
        "    optimizer.step()\n",
        "  print(f'epoch {epoch} : loss : {loss.item()}')\n",
        "\n",
        "input_seq=torch.tensor([word2idx[word] for word in text.split()[-10:]]).unsqueeze(0)\n",
        "h0=torch.zeros(1,1,256)\n",
        "output,_ = model(input_seq,h0)\n",
        "predicted_word = idx2word[output.argmax().item()]\n",
        "print(f\"predicted next word : {predicted_word}\")"
      ],
      "metadata": {
        "colab": {
          "base_uri": "https://localhost:8080/"
        },
        "id": "WAecEOqP6gRf",
        "outputId": "f9c0d0bb-4e57-43b0-bda2-ee5990293b00"
      },
      "execution_count": 77,
      "outputs": [
        {
          "output_type": "stream",
          "name": "stdout",
          "text": [
            "epoch 0 : loss : 3.5717241764068604\n",
            "epoch 1 : loss : 3.810302495956421\n",
            "epoch 2 : loss : 3.6805479526519775\n",
            "epoch 3 : loss : 3.698279619216919\n",
            "epoch 4 : loss : 3.635925531387329\n",
            "epoch 5 : loss : 3.461418867111206\n",
            "epoch 6 : loss : 3.5363142490386963\n",
            "epoch 7 : loss : 3.458329439163208\n",
            "epoch 8 : loss : 3.701122999191284\n",
            "epoch 9 : loss : 3.6665284633636475\n",
            "predicted next word : radiation.\n"
          ]
        }
      ]
    },
    {
      "cell_type": "code",
      "source": [],
      "metadata": {
        "id": "_f4GcGAS7VG0"
      },
      "execution_count": null,
      "outputs": []
    }
  ]
}